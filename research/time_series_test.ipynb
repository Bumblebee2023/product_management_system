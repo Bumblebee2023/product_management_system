{
 "cells": [
  {
   "cell_type": "code",
   "execution_count": 21,
   "metadata": {
    "collapsed": true
   },
   "outputs": [],
   "source": [
    "import time_series_pred_model\n",
    "\n",
    "import torch\n",
    "\n",
    "data = torch.load(\"items.json\")\n"
   ]
  },
  {
   "cell_type": "code",
   "execution_count": 22,
   "outputs": [
    {
     "name": "stdout",
     "output_type": "stream",
     "text": [
      "4D5CF815F5D9F81391510D421CF567EF  prices    [tensor(1000000.), tensor(1000000.), tensor(10...\n",
      "                                  cnt       [tensor(0.), tensor(0.), tensor(0.), tensor(0....\n",
      "1A1D8A4A6BD5E56958128A32B086A2C0  prices    [tensor(1000000.), tensor(1000000.), tensor(11...\n",
      "                                  cnt       [tensor(0.), tensor(0.), tensor(1.), tensor(0....\n",
      "3506A17DB897B0F35F01FBD6983B94F4  prices    [tensor(1000000.), tensor(1000000.), tensor(10...\n",
      "                                                                  ...                        \n",
      "BA0C00625E89155A74FEB264E3371410  cnt       [tensor(0.), tensor(0.), tensor(0.), tensor(0....\n",
      "978FC8C0D9486076C4DB7CFBF568ED09  prices    [tensor(1000000.), tensor(1000000.), tensor(10...\n",
      "                                  cnt       [tensor(0.), tensor(0.), tensor(0.), tensor(0....\n",
      "8E6D567CB89FE0A58503EB17042E1920  prices    [tensor(73571.3359), tensor(41383.8750), tenso...\n",
      "                                  cnt       [tensor(3.), tensor(8.), tensor(11.), tensor(7...\n",
      "Length: 18178, dtype: object\n"
     ]
    }
   ],
   "source": [
    "import pandas as pd\n",
    "import random\n",
    "# sample_items = random.sample(list(data.items()), 10)\n",
    "# for key, value in sample_items:\n",
    "#     print(key, value)\n",
    "\n",
    "df_tensor = pd.DataFrame.from_dict(data, orient='index')\n",
    "\n",
    "# Функция для извлечения тензора из value словаря\n",
    "def extract_tensor(x):\n",
    "    if isinstance(x, dict):\n",
    "        return pd.Series(x).apply(extract_tensor)\n",
    "    elif isinstance(x, torch.Tensor):\n",
    "        return x\n",
    "    else:\n",
    "        return None\n",
    "\n",
    "# Применение функции к каждому элементу DataFrame и преобразование в Series\n",
    "s = df_tensor.applymap(extract_tensor).stack()\n",
    "\n",
    "print(s)"
   ],
   "metadata": {
    "collapsed": false
   }
  },
  {
   "cell_type": "code",
   "execution_count": 23,
   "outputs": [
    {
     "name": "stdout",
     "output_type": "stream",
     "text": [
      "0       [tensor(0.), tensor(0.), tensor(0.), tensor(0....\n",
      "1       [tensor(0.), tensor(0.), tensor(1.), tensor(0....\n",
      "2       [tensor(0.), tensor(0.), tensor(0.), tensor(0....\n",
      "3       [tensor(8.), tensor(3.), tensor(3.), tensor(2....\n",
      "4       [tensor(0.), tensor(0.), tensor(0.), tensor(0....\n",
      "                              ...                        \n",
      "9084    [tensor(0.), tensor(0.), tensor(0.), tensor(0....\n",
      "9085    [tensor(0.), tensor(0.), tensor(0.), tensor(0....\n",
      "9086    [tensor(0.), tensor(0.), tensor(0.), tensor(0....\n",
      "9087    [tensor(0.), tensor(0.), tensor(0.), tensor(0....\n",
      "9088    [tensor(3.), tensor(8.), tensor(11.), tensor(7...\n",
      "Length: 9089, dtype: object\n"
     ]
    }
   ],
   "source": [
    "# получаем список тензоров для ключа \"a\"\n",
    "tensor_list = [v[\"cnt\"] for v in data.values() if isinstance(v[\"cnt\"], torch.Tensor)]\n",
    "\n",
    "# создаем серию из списка тензоров\n",
    "tensor_series = pd.Series(tensor_list)\n",
    "\n",
    "print(tensor_series)"
   ],
   "metadata": {
    "collapsed": false
   }
  },
  {
   "cell_type": "code",
   "execution_count": 24,
   "outputs": [
    {
     "name": "stdout",
     "output_type": "stream",
     "text": [
      "tensor([ 33.,  34.,  23.,  30.,  65.,  98.,  77.,  20.,  26.,  35.,  31.,  48.,\n",
      "         68.,  72.,  35.,  35.,  36.,  39.,  56.,  95.,  72.,  30.,  33.,  89.,\n",
      "         69., 104., 169., 119.,  70.,  70.,  68.,  96., 106., 150., 117., 116.,\n",
      "         86., 120., 101.,  84.,  14.,  43.,  59.,  47.,  40.,  51.,  35.,  32.,\n",
      "         54.,  29.,  46.,  32.,  53.,  40.,  68.,  68.,  37.,  36.,  58.,  39.,\n",
      "         45.,  82.,  64.,  30.,  53.,  48.,  46.,  42.,  81.,  70.,  35.,  30.,\n",
      "         32.,  31.,  39.,  60.,  55.,  32.,  44.,  37.,  46.,  54.,  83.,  84.,\n",
      "         59.,  45.,  36.,  44.,  70., 108., 112.,  44.,  51.,  75.,  42.,  54.,\n",
      "         73.,  66.,  40.,  75.,  62.,  58.,  77., 114., 174., 168., 151.,  83.,\n",
      "         57.,  64., 124., 103.,  46.,  60.,  52.,  52.,  64.,  72.,  90.,  69.,\n",
      "         54.,  69.,  63.,  75.,  87.,  73.,  45.,  59.,  58.,  63.,  59.,  82.,\n",
      "         77.,  48.,  45.,  51.,  68.,  61., 117., 113.,  45.,  42.,  67.,  43.,\n",
      "         74., 122.,  98.,  60.,  49.,  44.,  40.,  51.,  80.,  61.,  46.,  51.,\n",
      "         53.,  31.,  35.,  92.,  91.,  76.,  69.,  51.,  50.,  45.,  88.,  79.,\n",
      "         42.,  49.,  43.,  40.,  34.,  92.,  84.,  56.,  46.,  48.,  47.,  49.,\n",
      "         71.,  75.,  50.,  45.,  48.,  42.,  51.,  93.,  51.,  50.,  47.,  65.,\n",
      "         64.,  63.,  75.,  71.,  75.,  58.,  83.,  56.,  75.,  71.,  63.,  65.,\n",
      "         63.,  57.,  44.,  42.,  54.,  39.,  36.,  29.,  25.,  26.,  32.,  39.,\n",
      "         30.,  29.,  36.,  38.,  55.,  47.,  67.,  38.,  65.,  48.,  55.,  57.,\n",
      "         67., 104.,  77.,  45.,  61.,  78.,  75.,  72.,  98.,  71.,  60.,  75.,\n",
      "         66.,  79.,  58.,  62.,  64.,  63.,  56.,  75.,  57.,  70.,  92.,  73.,\n",
      "         55.,  63.,  81.,  53.,  58.,  79.,  64.,  58.,  59.,  68.,  76.,  72.,\n",
      "         73.,  58.,  67.,  53.,  62.,  54.,  60.,  97.,  67.,  56.,  57.,  60.,\n",
      "         84.,  75.,  89., 107.,  77.,  85.,  94., 127.,  84., 117., 144.,  93.,\n",
      "         66.,  93.,  95., 122., 154., 173.,  96.,  88.,  96.,  97., 119., 154.,\n",
      "        161.,  71.,  93.,  74.,  90.,  92., 127., 140.,  75.,  76.,  67.,  76.,\n",
      "         98.,  76.,  79.,  40.,  32.,  48.,  40.,  69.,  84.,  72.,  36.,  37.,\n",
      "         38.,  39.,  74., 143., 112.,  96.,  88.,  97.,  85., 103., 193., 155.,\n",
      "         83., 107.,  84.,  77., 123., 162., 149., 101.,  52.,  83.,  75., 110.,\n",
      "         83.,  72.,  55.,  47.,  49.,  55.,  74., 131., 122.,  56., 104.,  86.,\n",
      "        113., 155., 210., 175.,  98.])\n"
     ]
    }
   ],
   "source": [
    "type(tensor_series[0])\n",
    "\n",
    "most_popular_product_tensor = data[\"0F40E9DE2E7DBC0DA161448D98D47C69\"]['cnt']\n",
    "print(most_popular_product_tensor)"
   ],
   "metadata": {
    "collapsed": false
   }
  },
  {
   "cell_type": "code",
   "execution_count": 27,
   "outputs": [],
   "source": [
    "def split_tensor_for_time_series(tensor):\n",
    "    tensor_split = torch.split(tensor, int(len(tensor)*0.8), dim=0)\n",
    "    return pd.Series(tensor_split[0]), pd.Series(tensor_split[1])\n",
    "\n",
    "\n",
    "time_series_model = time_series_pred_model.Time_series_model(4, 73, 1) # 4 периода по 73 дня.\n",
    "# Предсказывает следующий период длины 73. Можно поменять и сделать периодов больше длины 5 дней\n",
    "# И тогда будет предсказывать следующие 5 дней. Главное правильной длины тензоры закидывайте и всё норм будет.\n",
    "\n",
    "train, test = split_tensor_for_time_series(tensor_series[6])\n",
    "\n",
    "\n",
    "time_series_model.fit(train)\n"
   ],
   "metadata": {
    "collapsed": false
   }
  },
  {
   "cell_type": "code",
   "execution_count": 28,
   "outputs": [
    {
     "name": "stdout",
     "output_type": "stream",
     "text": [
      "MAE: 0.47\n",
      "MAPE: 2049825507533163.5\n"
     ]
    }
   ],
   "source": [
    "from sklearn.metrics import mean_absolute_error, mean_absolute_percentage_error\n",
    "\n",
    "test_pred = time_series_model.predict(test)\n",
    "mae = round(mean_absolute_error(test, test_pred), 2)\n",
    "mape = round(mean_absolute_percentage_error(test, test_pred), 3)\n",
    "print(\"MAE:\", mae)\n",
    "print(\"MAPE:\", mape)"
   ],
   "metadata": {
    "collapsed": false
   }
  },
  {
   "cell_type": "code",
   "execution_count": 26,
   "outputs": [],
   "source": [],
   "metadata": {
    "collapsed": false
   }
  }
 ],
 "metadata": {
  "kernelspec": {
   "display_name": "Python 3",
   "language": "python",
   "name": "python3"
  },
  "language_info": {
   "codemirror_mode": {
    "name": "ipython",
    "version": 2
   },
   "file_extension": ".py",
   "mimetype": "text/x-python",
   "name": "python",
   "nbconvert_exporter": "python",
   "pygments_lexer": "ipython2",
   "version": "2.7.6"
  }
 },
 "nbformat": 4,
 "nbformat_minor": 0
}
